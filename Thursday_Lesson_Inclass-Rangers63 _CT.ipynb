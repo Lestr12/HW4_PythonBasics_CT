{
 "cells": [
  {
   "cell_type": "markdown",
   "metadata": {},
   "source": [
    "# Object-Oriented-Programming (OOP)"
   ]
  },
  {
   "cell_type": "markdown",
   "metadata": {},
   "source": [
    "## Tasks Today:\n",
    "\n",
    "   \n",
    "\n",
    "1) <b>Creating a Class (Initializing/Declaring)</b> <br>\n",
    "2) <b>Using a Class (Instantiating)</b> <br>\n",
    " &nbsp;&nbsp;&nbsp;&nbsp; a) Creating One Instance <br>\n",
    " &nbsp;&nbsp;&nbsp;&nbsp; b) Creating Multiple Instances <br>\n",
    " &nbsp;&nbsp;&nbsp;&nbsp; c) In-Class Exercise #1 - Create a Class 'Car' and instantiate three different makes of cars <br>\n",
    "3) <b>The \\__init\\__() Method</b> <br>\n",
    " &nbsp;&nbsp;&nbsp;&nbsp; a) The 'self' Attribute <br>\n",
    "4) <b>Class Attributes</b> <br>\n",
    " &nbsp;&nbsp;&nbsp;&nbsp; a) Initializing Attributes <br>\n",
    " &nbsp;&nbsp;&nbsp;&nbsp; b) Setting an Attribute Outside of the \\__init\\__() Method <br>\n",
    " &nbsp;&nbsp;&nbsp;&nbsp; c) Setting Defaults for Attributes <br>\n",
    " &nbsp;&nbsp;&nbsp;&nbsp; d) Accessing Class Attributes <br>\n",
    " &nbsp;&nbsp;&nbsp;&nbsp; e) Changing Class Attributes <br>\n",
    " &nbsp;&nbsp;&nbsp;&nbsp; f) In-Class Exercise #2 - Add a color and wheels attribute to your 'Car' class <br>\n",
    "5) <b>Class Methods</b> <br>\n",
    " &nbsp;&nbsp;&nbsp;&nbsp; a) Creating <br>\n",
    " &nbsp;&nbsp;&nbsp;&nbsp; b) Calling <br>\n",
    " &nbsp;&nbsp;&nbsp;&nbsp; c) Modifying an Attribute's Value Through a Method <br>\n",
    " &nbsp;&nbsp;&nbsp;&nbsp; d) Incrementing an Attribute's Value Through a Method <br>\n",
    " &nbsp;&nbsp;&nbsp;&nbsp; e) In-Class Exercise #3 - Add a method that prints the cars color and wheel number, then call them <br>\n",
    "6) <b>Inheritance</b> <br>\n",
    " &nbsp;&nbsp;&nbsp;&nbsp; a) Syntax for Inheriting from a Parent Class <br>\n",
    " &nbsp;&nbsp;&nbsp;&nbsp; b) The \\__init\\__() Method for a Child Class (super()) <br>\n",
    " &nbsp;&nbsp;&nbsp;&nbsp; c) Defining Attributes and Methods for the Child Class <br>\n",
    " &nbsp;&nbsp;&nbsp;&nbsp; d) Method Overriding <br>\n",
    " &nbsp;&nbsp;&nbsp;&nbsp; e) In-Class Exercise #4 - Create a class 'Ford' that inherits from 'Car' class and initialize it as a Blue Ford Explorer with 4 wheels using the super() method <br>\n",
    "7) <b>Classes as Attributes</b> <br>\n",
    "8) <b>Exercises</b> <br>\n",
    " &nbsp;&nbsp;&nbsp;&nbsp; a) Exercise #1 - Turn the shopping cart program from yesterday into an object-oriented program <br>"
   ]
  },
  {
   "cell_type": "markdown",
   "metadata": {},
   "source": [
    "## Creating a Class (Initializing/Declaring)\n",
    "<p>When creating a class, function, or even a variable you are initializing that object. Initializing and Declaring occur at the same time in Python, whereas in lower level languages you have to declare an object before initializing it. This is the first step in the process of using a class.</p>"
   ]
  },
  {
   "cell_type": "code",
   "execution_count": 4,
   "metadata": {},
   "outputs": [],
   "source": [
    "class Car():\n",
    "    wheels = 4\n",
    "    color = 'blue'"
   ]
  },
  {
   "cell_type": "markdown",
   "metadata": {},
   "source": [
    "## Using a Class (Instantiating)\n",
    "<p>The process of creating a class is called <i>Instantiating</i>. Each time you create a variable of that type of class, it is referred to as an <i>Instance</i> of that class. This is the second step in the process of using a class.</p>"
   ]
  },
  {
   "cell_type": "markdown",
   "metadata": {},
   "source": [
    "##### Creating One Instance"
   ]
  },
  {
   "cell_type": "code",
   "execution_count": null,
   "metadata": {},
   "outputs": [],
   "source": [
    "ford = Car()"
   ]
  },
  {
   "cell_type": "markdown",
   "metadata": {},
   "source": [
    "##### Creating Multiple Instances"
   ]
  },
  {
   "cell_type": "code",
   "execution_count": 1,
   "metadata": {},
   "outputs": [],
   "source": [
    "class Dog:\n",
    "    def __init__(self, name, age):\n",
    "        self.name = name\n",
    "        self.age = age\n",
    "\n",
    "    def bark(self):\n",
    "        return f\"{self.name} says woof!\"\n"
   ]
  },
  {
   "cell_type": "markdown",
   "metadata": {},
   "source": [
    "##### In-Class Exercise #1 - Create a Class 'Car' and Instantiate three different makes of cars"
   ]
  },
  {
   "cell_type": "code",
   "execution_count": 3,
   "metadata": {},
   "outputs": [
    {
     "name": "stdout",
     "output_type": "stream",
     "text": [
      "2020 Toyota Camry\n",
      "2021 Ford Mustang\n",
      "2022 Tesla Model S\n"
     ]
    }
   ],
   "source": [
    "\n",
    "class Car:\n",
    "    def __init__(self, make, model, year):\n",
    "        self.make = make\n",
    "        self.model = model\n",
    "        self.year = year\n",
    "    \n",
    "    def info(self):\n",
    "        return f\"{self.year} {self.make} {self.model}\"\n",
    "\n",
    "car1 = Car(\"Toyota\", \"Camry\", 2020)\n",
    "car2 = Car(\"Ford\", \"Mustang\", 2021)\n",
    "car3 = Car(\"Tesla\", \"Model S\", 2022)\n",
    "\n",
    "\n",
    "print(car1.info())  \n",
    "print(car2.info())  \n",
    "print(car3.info()) \n",
    "\n"
   ]
  },
  {
   "cell_type": "markdown",
   "metadata": {},
   "source": [
    "## The \\__init\\__() Method <br>\n",
    "<p>This method is used in almost every created class, and called only once upon the creation of the class instance. This method will initialize all variables needed for the object.</p>"
   ]
  },
  {
   "cell_type": "code",
   "execution_count": null,
   "metadata": {},
   "outputs": [],
   "source": [
    "class Car:\n",
    "    def __init__(self, make, model, year):\n",
    "        self.make = make\n",
    "        self.model = model\n",
    "        self.year = year\n",
    "        self.is_running = False  \n",
    "    \n",
    "    def start(self):\n",
    "        self.is_running = True\n",
    "        print(f\"{self.make} {self.model} ({self.year}) has started.\")\n",
    "\n",
    "    def stop(self):\n",
    "        self.is_running = False\n",
    "        print(f\"{self.make} {self.model} ({self.year}) has stopped.\")\n",
    "\n",
    "\n",
    "my_car = Car(\"Toyota\", \"Camry\", 2020)\n",
    "\n",
    "\n",
    "print(f\"Car: {my_car.make} {my_car.model} ({my_car.year})\")\n",
    "my_car.start()  \n",
    "print(f\"Is car running? {my_car.is_running}\") \n",
    "\n",
    "my_car.stop()   \n",
    "print(f\"Is car running? {my_car.is_running}\") \n"
   ]
  },
  {
   "cell_type": "markdown",
   "metadata": {},
   "source": [
    "##### The 'self' Attribute <br>\n",
    "<p>This attribute is required to keep track of specific instance's attributes. Without the self attribute, the program would not know how to reference or keep track of an instance's attributes.</p>"
   ]
  },
  {
   "cell_type": "code",
   "execution_count": null,
   "metadata": {},
   "outputs": [],
   "source": [
    "class Car:\n",
    "    def __init__(self, make, model, year):\n",
    "        self.make = make\n",
    "        self.model = model\n",
    "        self.year = year\n",
    "        self.is_running = False  \n",
    "    \n",
    "    def start(self):\n",
    "        self.is_running = True\n",
    "        print(f\"{self.make} {self.model} ({self.year}) has started.\")\n",
    "\n",
    "    def stop(self):\n",
    "        self.is_running = False\n",
    "        print(f\"{self.make} {self.model} ({self.year}) has stopped.\")\n",
    "\n",
    "\n",
    "my_car = Car(\"Toyota\", \"Camry\", 2020)\n",
    "\n",
    "print(f\"Car: {my_car.make} {my_car.model} ({my_car.year})\")\n",
    "my_car.start()  \n",
    "print(f\"Is car running? {my_car.is_running}\") \n",
    "\n",
    "my_car.stop()   \n",
    "print(f\"Is car running? {my_car.is_running}\")  \n"
   ]
  },
  {
   "cell_type": "markdown",
   "metadata": {},
   "source": [
    "## Class Attributes <br>\n",
    "<p>While variables are inside of a class, they are referred to as attributes and not variables. When someone says 'attribute' you know they're speaking about a class. Attributes can be initialized through the init method, or outside of it.</p>"
   ]
  },
  {
   "cell_type": "markdown",
   "metadata": {},
   "source": [
    "##### Initializing Attributes"
   ]
  },
  {
   "cell_type": "code",
   "execution_count": null,
   "metadata": {},
   "outputs": [],
   "source": [
    "class Car:\n",
    "    def __init__(self, make, model, year):\n",
    "        self.make = make\n",
    "        self.model = model\n",
    "        self.year = year\n",
    "        self.is_running = False  \n",
    "    \n",
    "    def start(self):\n",
    "        self.is_running = True\n",
    "        print(f\"{self.make} {self.model} ({self.year}) has started.\")\n",
    "\n",
    "    def stop(self):\n",
    "        self.is_running = False\n",
    "        print(f\"{self.make} {self.model} ({self.year}) has stopped.\")\n",
    "\n",
    "\n",
    "my_car = Car(\"Toyota\", \"Camry\", 2020)\n",
    "\n",
    "\n",
    "print(f\"Car: {my_car.make} {my_car.model} ({my_car.year})\")\n",
    "my_car.start()  \n",
    "print(f\"Is car running? {my_car.is_running}\n",
    "\n",
    "my_car.stop()   \n",
    "print(f\"Is car running? {my_car.is_running}\")  \n"
   ]
  },
  {
   "cell_type": "markdown",
   "metadata": {},
   "source": [
    "##### Accessing Class Attributes"
   ]
  },
  {
   "cell_type": "code",
   "execution_count": 9,
   "metadata": {
    "scrolled": true
   },
   "outputs": [
    {
     "name": "stdout",
     "output_type": "stream",
     "text": [
      "Car: Toyota Camry (2020)\n",
      "Toyota Camry (2020) has started.\n",
      "Is car running? True\n",
      "Toyota Camry (2020) has stopped.\n",
      "Is car running? False\n"
     ]
    }
   ],
   "source": [
    "class Car:\n",
    "    def __init__(self, make, model, year):\n",
    "        self.make = make\n",
    "        self.model = model\n",
    "        self.year = year\n",
    "        self.is_running = False  \n",
    "    \n",
    "    def start(self):\n",
    "        self.is_running = True\n",
    "        print(f\"{self.make} {self.model} ({self.year}) has started.\")\n",
    "\n",
    "    def stop(self):\n",
    "        self.is_running = False\n",
    "        print(f\"{self.make} {self.model} ({self.year}) has stopped.\")\n",
    "\n",
    "\n",
    "my_car = Car(\"Toyota\", \"Camry\", 2020)\n",
    "\n",
    "print(f\"Car: {my_car.make} {my_car.model} ({my_car.year})\")\n",
    "my_car.start()  \n",
    "print(f\"Is car running? {my_car.is_running}\")  \n",
    "\n",
    "my_car.stop()   \n",
    "print(f\"Is car running? {my_car.is_running}\")  \n"
   ]
  },
  {
   "cell_type": "markdown",
   "metadata": {},
   "source": [
    "##### Setting Defaults for Attributes"
   ]
  },
  {
   "cell_type": "code",
   "execution_count": null,
   "metadata": {},
   "outputs": [],
   "source": [
    "\n",
    "class Car:\n",
    "    \n",
    "    def __init__(self, make='Unknown', model='Unknown', year='Unknown'):\n",
    "        self.make = make\n",
    "        self.model = model\n",
    "        self.year = year\n",
    "\n",
    "car1 = Car('Toyota', 'Camry', '2023')\n",
    "car2 = Car('Honda', 'Civic', '2022')\n",
    "car3 = Car('Ford', 'Mustang', '2024')\n",
    "\n",
    "print(f\"Car 1: Make = {car1.make}, Model = {car1.model}, Year = {car1.year}\")\n",
    "\n",
    "\n",
    "print(f\"Car 2: Make = {car2.make}, Model = {car2.model}, Year = {car2.year}\")\n",
    "\n",
    "\n",
    "print(f\"Car 3: Make = {car3.make}, Model = {car3.model}, Year = {car3.year}\")\n"
   ]
  },
  {
   "cell_type": "markdown",
   "metadata": {},
   "source": [
    "##### Changing Class Attributes <br>\n",
    "<p>Keep in mind there are global class attributes and then there are attributes only available to each class instance which won't effect other classes.</p>"
   ]
  },
  {
   "cell_type": "code",
   "execution_count": null,
   "metadata": {},
   "outputs": [],
   "source": [
    "\n",
    "class Car:\n",
    "    \n",
    "    wheels = 4  \n",
    "\n",
    "    def __init__(self, make='Unknown', model='Unknown', year='Unknown'):\n",
    "        self.make = make\n",
    "        self.model = model\n",
    "        self.year = year\n",
    "\n",
    "car1 = Car('Toyota', 'Camry', '2023')\n",
    "car2 = Car('Honda', 'Civic', '2022')\n",
    "car3 = Car('Ford', 'Mustang', '2024')\n",
    "\n",
    "print(f\"Car 1: Make = {car1.make}, Model = {car1.model}, Year = {car1.year}, Wheels = {car1.wheels}\")\n",
    "\n",
    "\n",
    "print(f\"Car 2: Make = {car2.make}, Model = {car2.model}, Year = {car2.year}, Wheels = {car2.wheels}\")\n",
    "\n",
    "print(f\"Car 3: Make = {car3.make}, Model = {car3.model}, Year = {car3.year}, Wheels = {car3.wheels}\")\n",
    "\n",
    "car1.wheels = 3  \n",
    "print(f\"Car 1 (modified): Make = {car1.make}, Model = {car1.model}, Year = {car1.year}, Wheels = {car1.wheels}\")\n",
    "\n",
    "print(f\"Class attribute - Number of wheels: {Car.wheels}\")\n"
   ]
  },
  {
   "cell_type": "markdown",
   "metadata": {},
   "source": [
    "##### In-Class Exercise #2 - Add a doors and seats attribute to your 'Car' class then print out two different instances with different doors and seats"
   ]
  },
  {
   "cell_type": "code",
   "execution_count": null,
   "metadata": {},
   "outputs": [],
   "source": [
    "\n",
    "class Car:\n",
    "\n",
    "    wheels = 4  \n",
    "\n",
    "    def __init__(self, make='Unknown', model='Unknown', year='Unknown', doors=4, seats=5):\n",
    "        self.make = make\n",
    "        self.model = model\n",
    "        self.year = year\n",
    "        self.doors = doors\n",
    "        self.seats = seats\n",
    "\n",
    "car1 = Car('Toyota', 'Camry', '2023', doors=4, seats=5)\n",
    "car2 = Car('Honda', 'Civic', '2022', doors=2, seats=4)\n",
    "\n",
    "print(f\"Car 1: Make = {car1.make}, Model = {car1.model}, Year = {car1.year}, Doors = {car1.doors}, Seats = {car1.seats}, Wheels = {car1.wheels}\")\n",
    "\n",
    "print(f\"Car 2: Make = {car2.make}, Model = {car2.model}, Year = {car2.year}, Doors = {car2.doors}, Seats = {car2.seats}, Wheels = {car2.wheels}\")\n"
   ]
  },
  {
   "cell_type": "markdown",
   "metadata": {},
   "source": [
    "## Class Methods <br>\n",
    "<p>While inside of a class, functions are referred to as 'methods'. If you hear someone mention methods, they're speaking about classes. Methods are essentially functions, but only callable on the instances of a class.</p>"
   ]
  },
  {
   "cell_type": "markdown",
   "metadata": {},
   "source": [
    "##### Creating"
   ]
  },
  {
   "cell_type": "code",
   "execution_count": 10,
   "metadata": {},
   "outputs": [
    {
     "name": "stdout",
     "output_type": "stream",
     "text": [
      "This car is from 2019 and is a Ford Explorer and has 4 doors and 5 seats\n",
      "The Ford Explorer is starting.\n",
      "The Ford Explorer is stopping.\n"
     ]
    }
   ],
   "source": [
    "\n",
    "class Car:\n",
    "    def __init__(self, make, model):\n",
    "        self.make = make\n",
    "        self.model = model\n",
    "\n",
    "    def describe_car(self, year, doors, seats):\n",
    "        print(f\"This car is from {year} and is a {self.make} {self.model} \"\n",
    "              f\"and has {doors} doors and {seats} seats\")\n",
    "\n",
    "    def start(self):\n",
    "        print(f\"The {self.make} {self.model} is starting.\")\n",
    "\n",
    "\n",
    "    def stop(self):\n",
    "        print(f\"The {self.make} {self.model} is stopping.\")\n",
    "\n",
    "\n",
    "my_car = Car('Ford', 'Explorer')\n",
    "\n",
    "my_car.describe_car(2019, 4, 5)\n",
    "my_car.start()\n",
    "\n",
    "my_car.stop()\n"
   ]
  },
  {
   "cell_type": "markdown",
   "metadata": {},
   "source": [
    "##### Calling"
   ]
  },
  {
   "cell_type": "code",
   "execution_count": null,
   "metadata": {},
   "outputs": [],
   "source": [
    "\n",
    "class Car:\n",
    "   \n",
    "    def __init__(self, make, model):\n",
    "        self.make = make\n",
    "        self.model = model\n",
    "\n",
    "\n",
    "    def describe_car(self, year, doors, seats):\n",
    "        print(f\"This car is from {year} and is a {self.make} {self.model} \"\n",
    "              f\"and has {doors} doors and {seats} seats\")\n",
    "\n",
    "    def start(self):\n",
    "        print(f\"The {self.make} {self.model} is starting.\")\n",
    "\n",
    "    def stop(self):\n",
    "        print(f\"The {self.make} {self.model} is stopping.\")\n",
    "\n",
    "\n",
    "my_car = Car('Ford', 'Explorer')\n",
    "\n",
    "\n",
    "my_car.describe_car(2019, 4, 5)\n",
    "\n",
    "\n",
    "my_car.start()\n",
    "\n",
    "\n",
    "my_car.stop()\n"
   ]
  },
  {
   "cell_type": "markdown",
   "metadata": {},
   "source": [
    "##### Modifying an Attribute's Value Through a Method"
   ]
  },
  {
   "cell_type": "code",
   "execution_count": null,
   "metadata": {},
   "outputs": [],
   "source": [
    "\n",
    "class Car:\n",
    "  \n",
    "    def __init__(self, make, model, year, doors, seats):\n",
    "        self.make = make\n",
    "        self.model = model\n",
    "        self.year = year\n",
    "        self.doors = doors\n",
    "        self.seats = seats\n",
    "\n",
    "\n",
    "    def describe_car(self):\n",
    "        print(f\"This car is from {self.year} and is a {self.make} {self.model} \"\n",
    "              f\"and has {self.doors} doors and {self.seats} seats\")\n",
    "\n",
    "  \n",
    "    def update_year(self, new_year):\n",
    "        self.year = new_year\n",
    "        print(f\"The year of the {self.make} {self.model} has been updated to {self.year}.\")\n",
    "\n",
    "\n",
    "    def update_doors(self, new_doors):\n",
    "        self.doors = new_doors\n",
    "        print(f\"The number of doors on the {self.make} {self.model} has been updated to {self.doors}.\")\n",
    "\n",
    "    def update_seats(self, new_seats):\n",
    "        self.seats = new_seats\n",
    "        print(f\"The number of seats in the {self.make} {self.model} has been updated to {self.seats}.\")\n",
    "\n",
    "my_car = Car('Ford', 'Explorer', 2019, 4, 5)\n",
    "\n",
    "\n",
    "my_car.describe_car()\n",
    "\n",
    "my_car.update_year(2021)\n",
    "\n",
    "my_car.update_doors(2)\n",
    "\n",
    "my_car.update_seats(4)\n",
    "\n",
    "my_car.describe_car()\n"
   ]
  },
  {
   "cell_type": "markdown",
   "metadata": {},
   "source": [
    "##### Incrementing an Attribute's Value Through a Method"
   ]
  },
  {
   "cell_type": "code",
   "execution_count": null,
   "metadata": {},
   "outputs": [],
   "source": [
    "\n",
    "class Car:\n",
    "    def __init__(self, make, model, year, doors, seats):\n",
    "        self.make = make\n",
    "        self.model = model\n",
    "        self.year = year\n",
    "        self.doors = doors\n",
    "        self.seats = seats\n",
    "\n",
    "\n",
    "    def describe_car(self):\n",
    "        print(f\"This car is from {self.year} and is a {self.make} {self.model} \"\n",
    "              f\"and has {self.doors} doors and {self.seats} seats\")\n",
    "\n",
    "    def increment_year(self, increment):\n",
    "        self.year += increment\n",
    "        print(f\"The year of the {self.make} {self.model} has been incremented to {self.year}.\")\n",
    "\n",
    "    def increment_doors(self, increment):\n",
    "        self.doors += increment\n",
    "        print(f\"The number of doors on the {self.make} {self.model} has been incremented to {self.doors}.\")\n",
    "\n",
    "    def increment_seats(self, increment):\n",
    "        self.seats += increment\n",
    "        print(f\"The number of seats in the {self.make} {self.model} has been incremented to {self.seats}.\")\n",
    "\n",
    "my_car = Car('Ford', 'Explorer', 2019, 4, 5)\n",
    "\n",
    "my_car.describe_car()\n",
    "\n",
    "my_car.increment_year(1)\n",
    "\n",
    "my_car.increment_doors(1)\n",
    "\n",
    "\n",
    "my_car.increment_seats(2)\n",
    "\n",
    "my_car.describe_car()\n"
   ]
  },
  {
   "cell_type": "markdown",
   "metadata": {},
   "source": [
    "##### In-Class Exercise #3 - Add a method that takes in three parameters of year, doors and seats and prints out a formatted print statement with make, model, year, seats, and doors"
   ]
  },
  {
   "cell_type": "code",
   "execution_count": 7,
   "metadata": {},
   "outputs": [
    {
     "name": "stdout",
     "output_type": "stream",
     "text": [
      "This car is from 2019 and is a Ford Explorer and has 4 doors and 5 seats\n"
     ]
    }
   ],
   "source": [
    "\n",
    "class Car:\n",
    "\n",
    "    def __init__(self, make, model):\n",
    "        self.make = make\n",
    "        self.model = model\n",
    "\n",
    "    def describe_car(self, year, doors, seats):\n",
    "        print(f\"This car is from {year} and is a {self.make} {self.model} \"\n",
    "              f\"and has {doors} doors and {seats} seats\")\n",
    "\n",
    "\n",
    "my_car = Car('Ford', 'Explorer')\n",
    "\n",
    "my_car.describe_car(2019, 4, 5)\n"
   ]
  },
  {
   "cell_type": "markdown",
   "metadata": {},
   "source": [
    "## Inheritance <br>\n",
    "<p>You can create a child-parent relationship between two classes by using inheritance. What this allows you to do is have overriding methods, but also inherit traits from the parent class. Think of it as an actual parent and child, the child will inherit the parent's genes, as will the classes in OOP</p>"
   ]
  },
  {
   "cell_type": "markdown",
   "metadata": {},
   "source": [
    "##### Syntax for Inheriting from a Parent Class"
   ]
  },
  {
   "cell_type": "code",
   "execution_count": null,
   "metadata": {},
   "outputs": [],
   "source": [
    "class ParentClass:\n",
    "    # Parent class attributes and methods\n",
    "\n",
    "class ChildClass(ParentClass):\n",
    "    # Child class attributes and methods\n"
   ]
  },
  {
   "cell_type": "markdown",
   "metadata": {},
   "source": [
    "##### The \\__init\\__() Method for a Child Class - super()"
   ]
  },
  {
   "cell_type": "code",
   "execution_count": null,
   "metadata": {
    "scrolled": true
   },
   "outputs": [],
   "source": [
    "\n",
    "class Animal:\n",
    "    def __init__(self, name):\n",
    "        self.name = name\n",
    "    \n",
    "    def speak(self):\n",
    "        print(f\"{self.name} makes a sound\")\n",
    "\n",
    "\n",
    "class Dog(Animal):\n",
    "    def speak(self):\n",
    "        print(f\"{self.name} barks\")\n",
    "\n",
    "animal = Animal(\"Generic Animal\")\n",
    "dog = Dog(\"Buddy\")\n",
    "\n",
    "\n",
    "animal.speak()  \n",
    "dog.speak()     \n"
   ]
  },
  {
   "cell_type": "markdown",
   "metadata": {},
   "source": [
    "##### Defining Attributes and Methods for the Child Class"
   ]
  },
  {
   "cell_type": "code",
   "execution_count": null,
   "metadata": {},
   "outputs": [],
   "source": [
    "\n",
    "class Animal:\n",
    "    def __init__(self, name):\n",
    "        self.name = name\n",
    "    \n",
    "    def speak(self):\n",
    "        print(f\"{self.name} makes a sound\")\n",
    "\n",
    "class Dog(Animal):\n",
    "    def speak(self):\n",
    "        print(f\"{self.name} barks\")\n",
    "\n",
    "animal = Animal(\"Generic Animal\")\n",
    "dog = Dog(\"Buddy\")\n",
    "\n",
    "\n",
    "animal.speak()  \n",
    "dog.speak()    \n"
   ]
  },
  {
   "cell_type": "markdown",
   "metadata": {},
   "source": [
    "##### Method Overriding"
   ]
  },
  {
   "cell_type": "code",
   "execution_count": null,
   "metadata": {},
   "outputs": [],
   "source": [
    "\n",
    "class Animal:\n",
    "    def __init__(self, name):\n",
    "        self.name = name\n",
    "    \n",
    "    def speak(self):\n",
    "        print(f\"{self.name} makes a sound\")\n",
    "\n",
    "\n",
    "class Dog(Animal):\n",
    "    def speak(self):\n",
    "        print(f\"{self.name} barks\")\n",
    "\n",
    "animal = Animal(\"Generic Animal\")\n",
    "dog = Dog(\"Buddy\")\n",
    "\n",
    "\n",
    "animal.speak()  \n",
    "dog.speak()     "
   ]
  },
  {
   "cell_type": "markdown",
   "metadata": {},
   "source": [
    "## Classes as Attributes <br>\n",
    "<p>Classes can also be used as attributes within another class. This is useful in situations where you need to keep variables locally stored, instead of globally stored.</p>"
   ]
  },
  {
   "cell_type": "code",
   "execution_count": 6,
   "metadata": {},
   "outputs": [
    {
     "name": "stdout",
     "output_type": "stream",
     "text": [
      "Alice attacks with Sword and deals 10 damage!\n",
      "Inventory:\n",
      "Health Potion\n",
      "Mana Potion\n"
     ]
    }
   ],
   "source": [
    "\n",
    "class Inventory:\n",
    "    def __init__(self):\n",
    "        self.items = []\n",
    "\n",
    "    def add_item(self, item):\n",
    "        self.items.append(item)\n",
    "\n",
    "    def display_items(self):\n",
    "        print(\"Inventory:\")\n",
    "        for item in self.items:\n",
    "            print(item)\n",
    "\n",
    "class Weapon:\n",
    "    def __init__(self, name, damage):\n",
    "        self.name = name\n",
    "        self.damage = damage\n",
    "\n",
    "    def __str__(self):\n",
    "        return f\"{self.name} (Damage: {self.damage})\"\n",
    "\n",
    "class Player:\n",
    "    def __init__(self, name):\n",
    "        self.name = name\n",
    "        self.inventory = Inventory()  \n",
    "        self.weapon = None  \n",
    "\n",
    "    def equip_weapon(self, weapon):\n",
    "        self.weapon = weapon\n",
    "\n",
    "    def attack(self):\n",
    "        if self.weapon:\n",
    "            print(f\"{self.name} attacks with {self.weapon.name} and deals {self.weapon.damage} damage!\")\n",
    "        else:\n",
    "            print(f\"{self.name} attacks with bare hands!\")\n",
    "\n",
    "    def pick_up_item(self, item):\n",
    "        self.inventory.add_item(item)\n",
    "\n",
    "    def display_inventory(self):\n",
    "        self.inventory.display_items()\n",
    "\n",
    "if __name__ == \"__main__\":\n",
    "\n",
    "    player1 = Player(\"Alice\")\n",
    "\n",
    "    sword = Weapon(\"Sword\", 10)\n",
    "\n",
    "    player1.equip_weapon(sword)\n",
    "\n",
    "    player1.attack()\n",
    "\n",
    "    player1.pick_up_item(\"Health Potion\")\n",
    "    player1.pick_up_item(\"Mana Potion\")\n",
    "\n",
    "    player1.display_inventory()\n"
   ]
  },
  {
   "cell_type": "markdown",
   "metadata": {},
   "source": [
    "# Exercises"
   ]
  },
  {
   "cell_type": "markdown",
   "metadata": {},
   "source": [
    "### Exercise 1 - Turn the shopping cart program from yesterday into an object-oriented program\n",
    "\n",
    "The comments in the cell below are there as a guide for thinking about the problem. However, if you feel a different way is best for you and your own thought process, please do what feels best for you by all means."
   ]
  },
  {
   "cell_type": "code",
   "execution_count": null,
   "metadata": {},
   "outputs": [],
   "source": [
    "# Create a class called cart that retains items and has methods to add, remove, and show\n",
    "\n",
    "# Create a class called cart that retains items and has methods to add, remove, and show\n",
    "\n",
    "\n",
    "class Cart:\n",
    "    def __init__(self):\n",
    "        self.items = []\n",
    "\n",
    "    def add_item(self, item):\n",
    "        self.items.append(item)\n",
    "       \n",
    "    \n",
    "    def remove_item(self, item):\n",
    "        if item in self.items:\n",
    "          self.items.remove(item)\n",
    "    def show(self):\n",
    "        return self.items\n",
    "\n",
    "\n",
    "\n",
    "cart = Cart()\n",
    "\n",
    "cart.add_item(\"apple\")\n",
    "cart.add_item(\"banana\")\n",
    "cart.add_item(\"milk\")\n",
    "cart.remove_item(\"milk\")\n",
    "\n",
    "print(cart.show())\n",
    "\n",
    "\n",
    "\n",
    "    "
   ]
  },
  {
   "cell_type": "markdown",
   "metadata": {},
   "source": [
    "### Exercise 2 - Write a Python class which has two methods get_String and print_String. get_String accept a string from the user and print_String print the string in upper case"
   ]
  },
  {
   "cell_type": "code",
   "execution_count": 8,
   "metadata": {},
   "outputs": [
    {
     "name": "stdout",
     "output_type": "stream",
     "text": [
      "The string in uppercase: WORK\n"
     ]
    }
   ],
   "source": [
    "class StringManipulator:\n",
    "    def __init__(self):\n",
    "        self.input_string = \"\"\n",
    "\n",
    "    def get_string(self):\n",
    "        self.input_string = input(\"Enter a string: \")\n",
    "\n",
    "    def print_string(self):\n",
    "        print(\"The string in uppercase:\", self.input_string.upper())\n",
    "\n",
    "    @classmethod\n",
    "    def process_string(cls):\n",
    "        instance = cls()\n",
    "        instance.get_string()\n",
    "        instance.print_string()\n",
    "\n",
    "# Example usage:\n",
    "if __name__ == \"__main__\":\n",
    "    StringManipulator.process_string()\n",
    "\n",
    "\n"
   ]
  }
 ],
 "metadata": {
  "kernelspec": {
   "display_name": "Python 3",
   "language": "python",
   "name": "python3"
  },
  "language_info": {
   "codemirror_mode": {
    "name": "ipython",
    "version": 3
   },
   "file_extension": ".py",
   "mimetype": "text/x-python",
   "name": "python",
   "nbconvert_exporter": "python",
   "pygments_lexer": "ipython3",
   "version": "3.10.6"
  }
 },
 "nbformat": 4,
 "nbformat_minor": 2
}
